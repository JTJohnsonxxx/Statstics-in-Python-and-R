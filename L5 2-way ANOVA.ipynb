{
 "cells": [
  {
   "cell_type": "code",
   "execution_count": 40,
   "metadata": {},
   "outputs": [],
   "source": [
    "### Pyhton 3.7.1 ###\n",
    "#-----L5 2-way ANOVA------\n",
    "#~~packages\n",
    "import pandas as pd\n",
    "import scipy.stats as stats\n",
    "import numpy as np\n",
    "#time\n",
    "import time\n",
    "tStart = time.time()\n",
    "#install scipy\n",
    "import statsmodels.api as sm\n",
    "from statsmodels.formula.api import ols\n",
    "import matplotlib.pyplot as plt\n",
    "#install matplotlib\n",
    "from statsmodels.stats.multicomp import pairwise_tukeyhsd\n",
    "from statsmodels.stats.multicomp import MultiComparison\n",
    "#data visualization\n",
    "import seaborn as sns\n",
    "#R packages\n",
    "import rpy2.robjects as robjects\n",
    "#pingouin (ANOVA)\n",
    "import pingouin as pi"
   ]
  },
  {
   "cell_type": "code",
   "execution_count": 41,
   "metadata": {},
   "outputs": [
    {
     "name": "stdout",
     "output_type": "stream",
     "text": [
      "---------------------Data info_head---------------------\n",
      "        ID  ethnic  gender  reading_3\n",
      "0  1041002  Human        0        492\n",
      "1  1041007  Human        0        494\n",
      "2  1041008  Human        0        523\n",
      "3  1041012  Human        1        476\n",
      "4  1041020  Human        0        515\n",
      "---------------------Data type---------------------\n",
      "ID            int64\n",
      "ethnic       object\n",
      "gender        int64\n",
      "reading_3     int64\n",
      "dtype: object\n",
      "---------------------ID info---------------------\n",
      "ID           object\n",
      "ethnic       object\n",
      "gender        int64\n",
      "reading_3     int64\n",
      "dtype: object\n"
     ]
    },
    {
     "name": "stderr",
     "output_type": "stream",
     "text": [
      "C:\\Users\\johnson_yang\\AppData\\Local\\Continuum\\anaconda3\\lib\\site-packages\\pandas\\core\\frame.py:3140: SettingWithCopyWarning: \n",
      "A value is trying to be set on a copy of a slice from a DataFrame.\n",
      "Try using .loc[row_indexer,col_indexer] = value instead\n",
      "\n",
      "See the caveats in the documentation: http://pandas.pydata.org/pandas-docs/stable/indexing.html#indexing-view-versus-copy\n",
      "  self[k1] = value[k2]\n"
     ]
    }
   ],
   "source": [
    "#~~ loading data\n",
    "df_raw = pd.read_csv(r\"C:\\Users\\johnson_yang\\Desktop\\WOW_data_forStudent.csv\")#改成自己的檔案位置\n",
    "\n",
    "#~~ checking data\n",
    "df = df_raw[['ID','ethnic','gender','reading_3']]\n",
    "print('---------------------Data info_head---------------------')\n",
    "print(df.head())\n",
    "print('---------------------Data type---------------------')\n",
    "print(df.dtypes)\n",
    "print('---------------------ID info---------------------')\n",
    "df[['ID']]=df[['ID']].astype('object')\n",
    "print(df.dtypes)"
   ]
  },
  {
   "cell_type": "code",
   "execution_count": 42,
   "metadata": {},
   "outputs": [
    {
     "name": "stdout",
     "output_type": "stream",
     "text": [
      "   gender\n",
      "0  female\n",
      "1  female\n",
      "2  female\n",
      "3    male\n",
      "4  female\n",
      "----------------DV-----------------\n",
      "        reading_3\n",
      "count  193.000000\n",
      "mean   499.326425\n",
      "std     19.092761\n",
      "min    423.000000\n",
      "25%    489.000000\n",
      "50%    503.000000\n",
      "75%    512.000000\n",
      "max    543.000000\n",
      "----------------IV1-----------------\n",
      "Human      87\n",
      "Undead     64\n",
      "Orc        42\n",
      "Name: ethnic, dtype: int64\n",
      "----------------IV2-----------------\n",
      "male      104\n",
      "female     89\n",
      "Name: gender, dtype: int64\n"
     ]
    }
   ],
   "source": [
    "#~~ Replace with number with gender\n",
    "df[['gender']]=df[['gender']].replace([1,0],['male','female'])\n",
    "print(df[['gender']].head())\n",
    "\n",
    "#~~ Descriptive stats\n",
    "print('----------------DV-----------------')\n",
    "print(df[['reading_3']].describe())\n",
    "print('----------------IV1-----------------')\n",
    "print(df['ethnic'].value_counts())\n",
    "print('----------------IV2-----------------')\n",
    "print(df['gender'].value_counts())"
   ]
  },
  {
   "cell_type": "code",
   "execution_count": 43,
   "metadata": {},
   "outputs": [
    {
     "name": "stdout",
     "output_type": "stream",
     "text": [
      "DescribeResult(nobs=193, minmax=(423, 543), mean=499.3264248704663, variance=364.53351683937825, skewness=-0.9125744541449188, kurtosis=1.6503736513748368)\n"
     ]
    }
   ],
   "source": [
    "#~~ Normality\n",
    "print(stats.describe(df['reading_3']))"
   ]
  },
  {
   "cell_type": "code",
   "execution_count": 51,
   "metadata": {},
   "outputs": [
    {
     "name": "stdout",
     "output_type": "stream",
     "text": [
      "\n",
      "\n",
      "\tBartlett test of homogeneity of variances\n",
      "\n",
      "\n",
      "\n",
      "data:  reading_3 by ethnic\n",
      "\n",
      "Bartlett's K-squared = 3.3976, df = 2, p-value = 0.1829\n",
      "\n",
      "\n",
      "\n",
      "Levene's Test for Homogeneity of Variance (center = median)\n",
      "\n",
      "       Df F value Pr(>F)\n",
      "\n",
      "group   1   2e-04 0.9898\n",
      "\n",
      "      191               \n",
      "\n"
     ]
    }
   ],
   "source": [
    "#~~ Using R's packages to run homogeneity test\n",
    "rr=robjects.r\n",
    "rr('indaov2 <- read.csv(\"C:/Users/johnson_yang/Desktop/WOW_data_forStudent.csv\",header=TRUE)')\n",
    "rr('install.packages(\"car\")')\n",
    "rr('install.packages(\"plyr\")')\n",
    "rr('library(car)')\n",
    "rr('library(plyr)')\n",
    "rr('indaov2$gender <- mapvalues(indaov2$gender, from = c(0,1), to = c(\"female\",\"male\"))')\n",
    "rr('indaov2$gender <- as.factor(indaov2$gender)')\n",
    "print(rr('bartlett.test(reading_3 ~ ethnic, data=indaov2)'))\n",
    "print(rr('leveneTest(reading_3 ~ gender, data=indaov2)'))\n",
    "\n",
    "#python進行變異數同質性檢驗的作法之前教過，請參考前幾章的做法"
   ]
  },
  {
   "cell_type": "code",
   "execution_count": 52,
   "metadata": {},
   "outputs": [
    {
     "name": "stdout",
     "output_type": "stream",
     "text": [
      "               Df Sum Sq Mean Sq F value  Pr(>F)    \n",
      "\n",
      "ethnic          2  10758    5379  17.475 1.1e-07 ***\n",
      "\n",
      "gender          1    892     892   2.898  0.0904 .  \n",
      "\n",
      "ethnic:gender   2    781     391   1.269  0.2835    \n",
      "\n",
      "Residuals     187  57560     308                    \n",
      "\n",
      "---\n",
      "\n",
      "Signif. codes:  0 '***' 0.001 '**' 0.01 '*' 0.05 '.' 0.1 ' ' 1\n",
      "\n"
     ]
    }
   ],
   "source": [
    "# ~~ 2-way anova\n",
    "# R\n",
    "\n",
    "rr('install.packages(\"stats\")')\n",
    "rr('library(stats)')\n",
    "rr('indaov2.op <- aov(reading_3 ~ ethnic*gender, data=indaov2)' )\n",
    "print(rr('summary(indaov2.op)'))\n",
    "\n",
    "\n",
    "# python (由於數值與R有差異，因此這裡教同學引用R套件的做法)\n",
    "\n",
    "#results=pi.anova(dv='reading_3', between=['ethnic','gender'], data=df, detailed=True, export_filename=None)\n",
    "#with pd.option_context('display.max_rows', None, 'display.max_columns', None):\n",
    "#    print(results)"
   ]
  },
  {
   "cell_type": "code",
   "execution_count": 53,
   "metadata": {},
   "outputs": [
    {
     "data": {
      "image/png": "[encoded data removed]",
      "text/plain": [
       "<Figure size 432.85x360 with 1 Axes>"
      ]
     },
     "metadata": {},
     "output_type": "display_data"
    },
    {
     "data": {
      "image/png": "[encoded data removed]",
      "text/plain": [
       "<Figure size 441.1x360 with 1 Axes>"
      ]
     },
     "metadata": {},
     "output_type": "display_data"
    }
   ],
   "source": [
    "# plot\n",
    "sns.catplot(x=\"ethnic\", y=\"reading_3\", hue=\"gender\", kind=\"point\", data=df)\n",
    "sns.catplot(x=\"gender\", y=\"reading_3\", hue=\"ethnic\", kind=\"point\", data=df)\n",
    "plt.show()"
   ]
  },
  {
   "cell_type": "code",
   "execution_count": 54,
   "metadata": {},
   "outputs": [
    {
     "name": "stdout",
     "output_type": "stream",
     "text": [
      "                  eta.sq eta.sq.part         SS  df        MS         F\n",
      "\n",
      "ethnic        0.15465410  0.15828731 10824.3079   2 5412.1539 17.583035\n",
      "\n",
      "gender        0.01274451  0.01526038   891.9939   1  891.9939  2.897915\n",
      "\n",
      "ethnic:gender 0.01116161  0.01339038   781.2058   2  390.6029  1.268993\n",
      "\n",
      "Residuals     0.82239262          NA 57559.6176 187  307.8054        NA\n",
      "\n",
      "                         p\n",
      "\n",
      "ethnic        1.006519e-07\n",
      "\n",
      "gender        9.035592e-02\n",
      "\n",
      "ethnic:gender 2.835240e-01\n",
      "\n",
      "Residuals               NA\n",
      "\n"
     ]
    }
   ],
   "source": [
    "#  Using R's packages to get etaSquared\n",
    "rr('install.packages(\"lsr\")')\n",
    "rr('library(lsr)')\n",
    "print(rr('etaSquared(indaov2.op, anova=TRUE)'))"
   ]
  },
  {
   "cell_type": "code",
   "execution_count": 55,
   "metadata": {},
   "outputs": [
    {
     "name": "stdout",
     "output_type": "stream",
     "text": [
      "                 Difference pvalue sig        LCL       UCL\n",
      "\n",
      "Human  - Orc      19.481117 0.0000 ***  12.158084 26.804149\n",
      "\n",
      "Human  - Undead    5.919361 0.1255      -0.498928 12.337649\n",
      "\n",
      "Orc  - Undead    -13.561756 0.0007 *** -21.301359 -5.822153\n",
      "\n"
     ]
    }
   ],
   "source": [
    "# Using R's packages to run post-hoc(scheffe.test)\n",
    "rr('install.packages(\"agricolae\")')\n",
    "rr('library(agricolae)')\n",
    "rr('sch <- scheffe.test(indaov2.op, \"ethnic\", group=F)')\n",
    "print(rr('sch$comparison'))"
   ]
  },
  {
   "cell_type": "code",
   "execution_count": null,
   "metadata": {},
   "outputs": [],
   "source": []
  }
 ],
 "metadata": {
  "kernelspec": {
   "display_name": "Python 3",
   "language": "python",
   "name": "python3"
  },
  "language_info": {
   "codemirror_mode": {
    "name": "ipython",
    "version": 3
   },
   "file_extension": ".py",
   "mimetype": "text/x-python",
   "name": "python",
   "nbconvert_exporter": "python",
   "pygments_lexer": "ipython3",
   "version": "3.7.1"
  }
 },
 "nbformat": 4,
 "nbformat_minor": 2
}
