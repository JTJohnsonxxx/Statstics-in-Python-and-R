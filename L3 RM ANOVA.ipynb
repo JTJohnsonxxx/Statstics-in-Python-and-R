{
 "cells": [
  {
   "cell_type": "code",
   "execution_count": 11,
   "metadata": {},
   "outputs": [],
   "source": [
    "### Pyhton 3.7.1 ###\n",
    "#-----L3 RM-ANOVA------\n",
    "#~~packages\n",
    "import pandas as pd\n",
    "import scipy.stats as stats\n",
    "import numpy as np\n",
    "#numba\n",
    "import numba as nb\n",
    "from numba import jit\n",
    "#time\n",
    "import time\n",
    "tStart = time.time()\n",
    "#install scipy\n",
    "import statsmodels.api as sm\n",
    "from statsmodels.formula.api import ols\n",
    "import matplotlib.pyplot as plt\n",
    "#install matplotlib\n",
    "from statsmodels.stats.multicomp import pairwise_tukeyhsd\n",
    "from statsmodels.stats.multicomp import MultiComparison\n",
    "#data visualization\n",
    "import seaborn as sns"
   ]
  },
  {
   "cell_type": "code",
   "execution_count": 12,
   "metadata": {},
   "outputs": [
    {
     "name": "stdout",
     "output_type": "stream",
     "text": [
      "   Unnamed: 0       ID  ethnic  gender  senson  school_3  school_2  school_1  \\\n",
      "0           3  1041002  Human        0       1       206       204       102   \n",
      "1          15  1041007  Human        0       1       101       101       101   \n",
      "2          16  1041008  Human        0       1       103       103       103   \n",
      "3          30  1041012  Human        1       1       104       104       104   \n",
      "4          64  1041020  Human        0       1       107       107       107   \n",
      "\n",
      "   eco_3  eco_2   ...    item12  item13  item14  item15  item16  item17  \\\n",
      "0      0      0   ...         4       1       4       4       1       5   \n",
      "1      1      1   ...         5       1       5       5       1       5   \n",
      "2      0      0   ...         4       1       4       4       1       5   \n",
      "3      1      1   ...         3       1       2       2       1       2   \n",
      "4      0      0   ...         5       1       5       5       1       5   \n",
      "\n",
      "   item19  item20  item21  item22  \n",
      "0       4       4       1       4  \n",
      "1       3       5       1       5  \n",
      "2       4       4       4       4  \n",
      "3       2       2       1       2  \n",
      "4       5       5       1       5  \n",
      "\n",
      "[5 rows x 45 columns]\n"
     ]
    }
   ],
   "source": [
    "#~~ loading data\n",
    "df_raw = pd.read_csv(r\"C:\\Users\\johnson_yang\\Desktop\\WOW_data_forStudent.csv\")#改成自己的檔案位置\n",
    "print(df_raw.head())"
   ]
  },
  {
   "cell_type": "code",
   "execution_count": 13,
   "metadata": {},
   "outputs": [
    {
     "name": "stdout",
     "output_type": "stream",
     "text": [
      "---------------------Data info_head---------------------\n",
      "        ID  reading_1  reading_2  reading_3\n",
      "0  1041002        472        478        492\n",
      "1  1041007        478        486        494\n",
      "2  1041008        500        505        523\n",
      "3  1041012        431        457        476\n",
      "4  1041020        500        502        515\n",
      "---------------------Data type---------------------\n",
      "ID           int64\n",
      "reading_1    int64\n",
      "reading_2    int64\n",
      "reading_3    int64\n",
      "dtype: object\n",
      "---------------------ID info---------------------\n",
      "                 ID   reading_1   reading_2   reading_3\n",
      "count  1.930000e+02  193.000000  193.000000  193.000000\n",
      "mean   1.041097e+06  477.264249  488.865285  499.326425\n",
      "std    5.585845e+01   21.475461   19.109402   19.092761\n",
      "min    1.041001e+06  393.000000  420.000000  423.000000\n",
      "25%    1.041049e+06  467.000000  480.000000  489.000000\n",
      "50%    1.041097e+06  481.000000  492.000000  503.000000\n",
      "75%    1.041145e+06  489.000000  500.000000  512.000000\n",
      "max    1.041193e+06  530.000000  537.000000  543.000000\n",
      "ID           object\n",
      "reading_1     int64\n",
      "reading_2     int64\n",
      "reading_3     int64\n",
      "dtype: object\n",
      "---------------------convert to string---------------------\n"
     ]
    }
   ],
   "source": [
    "#~~ checking data\n",
    "df = df_raw[['ID','reading_1','reading_2','reading_3']]\n",
    "print('---------------------Data info_head---------------------')\n",
    "print(df.head())\n",
    "print('---------------------Data type---------------------')\n",
    "print(df.dtypes)\n",
    "print('---------------------ID info---------------------')\n",
    "print(df.describe())\n",
    "df[['ID']]=df[['ID']].astype('object')\n",
    "print(df.dtypes)\n"
   ]
  },
  {
   "cell_type": "code",
   "execution_count": 14,
   "metadata": {},
   "outputs": [
    {
     "name": "stdout",
     "output_type": "stream",
     "text": [
      "        ID  read_time  score\n",
      "0  1041002  reading_1    472\n",
      "1  1041007  reading_1    478\n",
      "2  1041008  reading_1    500\n",
      "3  1041012  reading_1    431\n",
      "4  1041020  reading_1    500\n",
      "579\n"
     ]
    }
   ],
   "source": [
    "# ~~ melt for RM-ANOVA\n",
    "RM_data= pd.melt(df, id_vars=['ID'], value_vars=['reading_1','reading_2','reading_3'],var_name='read_time', value_name='score')\n",
    "print(RM_data.head())\n",
    "print(np.count_nonzero(RM_data['ID']))"
   ]
  },
  {
   "cell_type": "code",
   "execution_count": 15,
   "metadata": {},
   "outputs": [
    {
     "name": "stdout",
     "output_type": "stream",
     "text": [
      "BartlettResult(statistic=3.5918919210341254, pvalue=0.16597037664153358)\n",
      "LeveneResult(statistic=0.577425875298038, pvalue=0.5616660669699498)\n"
     ]
    }
   ],
   "source": [
    "# ~~ homogeneity\n",
    "print(stats.bartlett(df['reading_1'],df['reading_2'], df['reading_3']))\n",
    "print(stats.levene(df['reading_1'],df['reading_2'],df['reading_3']))"
   ]
  },
  {
   "cell_type": "code",
   "execution_count": 16,
   "metadata": {},
   "outputs": [
    {
     "data": {
      "image/png": "[encoded data removed]",
      "text/plain": [
       "<Figure size 432x288 with 1 Axes>"
      ]
     },
     "metadata": {},
     "output_type": "display_data"
    }
   ],
   "source": [
    "# plot\n",
    "plt.errorbar([1,2,3],[np.mean(np.array(df['reading_1']).astype(np.float)),np.mean(np.array(df['reading_2']).astype(np.float)),np.mean(np.array(df['reading_3']).astype(np.float))],yerr=0.95,fmt='-o',ecolor='black',color='black',elinewidth=1,capsize=10)\n",
    "plt.xlabel(xlabel='RM_time')\n",
    "plt.xticks(np.linspace(1, 3, 3))\n",
    "plt.ylabel(ylabel='mean of RM_read_score')\n",
    "plt.show()"
   ]
  },
  {
   "cell_type": "code",
   "execution_count": 17,
   "metadata": {},
   "outputs": [
    {
     "name": "stdout",
     "output_type": "stream",
     "text": [
      "-----------------RM ANOVA------------------\n",
      "Sum of square total= 275664.6252158895\n",
      "Degree of freedom total= 578\n",
      "-------------------------------------------\n",
      "      Source         SS   DF         MS        F         p-unc    p-GG-corr  \\\n",
      "0  read_time  47012.169    2  23506.085  501.319  8.60286e-108  1.7567e-101   \n",
      "1      Error  18005.164  384     46.888        -             -            -   \n",
      "\n",
      "     np2   eps sphericity W-spher     p-spher  \n",
      "0  0.723  0.94      False   0.936  0.00177918  \n",
      "1      -     -          -       -           -  \n"
     ]
    }
   ],
   "source": [
    "# ~~RM anova\n",
    "import pingouin as pi\n",
    "\n",
    "print('-----------------RM ANOVA------------------')\n",
    "score_mean=(sum(RM_data['score']))/np.count_nonzero(RM_data['score'])\n",
    "SST=[]\n",
    "for i in RM_data['score']:\n",
    "    x=(i-score_mean)**2\n",
    "    SST.append(x)\n",
    "\n",
    "print('Sum of square total=',sum(SST))\n",
    "print('Degree of freedom total=',(np.count_nonzero(RM_data['score'])-1))\n",
    "print('-------------------------------------------')\n",
    "\n",
    "rmaov_res = pi.rm_anova(dv='score',within='read_time',subject='ID',data=RM_data,detailed=True,correction=True)\n",
    "with pd.option_context('display.max_rows', None, 'display.max_columns', None):\n",
    "    print(rmaov_res)"
   ]
  },
  {
   "cell_type": "code",
   "execution_count": 18,
   "metadata": {},
   "outputs": [
    {
     "name": "stdout",
     "output_type": "stream",
     "text": [
      "-----------------post hoc------------------\n",
      "           A          B     mean(A)     mean(B)       diff     SE       tail  \\\n",
      "0  reading_1  reading_2  477.264249  488.865285 -11.601036  2.028  two-sided   \n",
      "1  reading_1  reading_3  477.264249  499.326425 -22.062176  2.028  two-sided   \n",
      "2  reading_2  reading_3  488.865285  499.326425 -10.461140  2.028  two-sided   \n",
      "\n",
      "        T  p-tukey  efsize  eftype  \n",
      "0  -5.720    0.001  -0.581  hedges  \n",
      "1 -10.878    0.001  -1.105  hedges  \n",
      "2  -5.158    0.001  -0.524  hedges  \n"
     ]
    }
   ],
   "source": [
    "# ~~post hoc\n",
    "print('-----------------post hoc------------------')\n",
    "rmaov_post=pi.pairwise_tukey(dv='score', between='read_time', data=RM_data, alpha=0.05, tail='two-sided', effsize='hedges')\n",
    "with pd.option_context('display.max_rows', None, 'display.max_columns', None):\n",
    "    print(rmaov_post)"
   ]
  },
  {
   "cell_type": "code",
   "execution_count": 19,
   "metadata": {},
   "outputs": [
    {
     "name": "stdout",
     "output_type": "stream",
     "text": [
      "It cost 0.8749589920043945 seconds\n"
     ]
    }
   ],
   "source": [
    "# ~~cost time\n",
    "tEnd=time.time()\n",
    "print('It cost',tEnd-tStart,'seconds')"
   ]
  },
  {
   "cell_type": "code",
   "execution_count": null,
   "metadata": {},
   "outputs": [],
   "source": []
  }
 ],
 "metadata": {
  "kernelspec": {
   "display_name": "Python 3",
   "language": "python",
   "name": "python3"
  },
  "language_info": {
   "codemirror_mode": {
    "name": "ipython",
    "version": 3
   },
   "file_extension": ".py",
   "mimetype": "text/x-python",
   "name": "python",
   "nbconvert_exporter": "python",
   "pygments_lexer": "ipython3",
   "version": "3.7.1"
  }
 },
 "nbformat": 4,
 "nbformat_minor": 2
}
