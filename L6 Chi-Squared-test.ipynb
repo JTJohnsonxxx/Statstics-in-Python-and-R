{
 "cells": [
  {
   "cell_type": "code",
   "execution_count": 28,
   "metadata": {},
   "outputs": [],
   "source": [
    "### Pyhton 3.7.1 ###\n",
    "#-----L5 2-way ANOVA------\n",
    "#~~packages\n",
    "import pandas as pd\n",
    "import scipy.stats as stats\n",
    "import numpy as np\n",
    "#time\n",
    "import time\n",
    "tStart = time.time()\n",
    "#install scipy\n",
    "import statsmodels.api as sm\n",
    "from statsmodels.formula.api import ols\n",
    "import matplotlib.pyplot as plt\n",
    "#install matplotlib\n",
    "from statsmodels.stats.multicomp import pairwise_tukeyhsd\n",
    "from statsmodels.stats.multicomp import MultiComparison \n",
    "#data visualization\n",
    "import seaborn as sns\n",
    "#R packages\n",
    "import rpy2.robjects as robjects\n",
    "#pingouin (ANOVA)\n",
    "import pingouin as pi"
   ]
  },
  {
   "cell_type": "code",
   "execution_count": 29,
   "metadata": {},
   "outputs": [
    {
     "name": "stdout",
     "output_type": "stream",
     "text": [
      "---------------------Data type---------------------\n",
      "ID        int64\n",
      "gender    int64\n",
      "dtype: object\n",
      "---------------------ID info---------------------\n",
      "ID        object\n",
      "gender     int64\n",
      "dtype: object\n"
     ]
    },
    {
     "name": "stderr",
     "output_type": "stream",
     "text": [
      "C:\\Users\\johnson_yang\\AppData\\Local\\Continuum\\anaconda3\\lib\\site-packages\\pandas\\core\\frame.py:3140: SettingWithCopyWarning: \n",
      "A value is trying to be set on a copy of a slice from a DataFrame.\n",
      "Try using .loc[row_indexer,col_indexer] = value instead\n",
      "\n",
      "See the caveats in the documentation: http://pandas.pydata.org/pandas-docs/stable/indexing.html#indexing-view-versus-copy\n",
      "  self[k1] = value[k2]\n"
     ]
    }
   ],
   "source": [
    "# python\n",
    "#~~ loading data\n",
    "df_raw = pd.read_csv(r\"C:\\Users\\johnson_yang\\Desktop\\WOW_data_forStudent.csv\")#改成自己的檔案位置\n",
    "\n",
    "#~~ checking data\n",
    "df = df_raw[['ID','gender']]\n",
    "print('---------------------Data type---------------------')\n",
    "print(df.dtypes)\n",
    "print('---------------------ID info---------------------')\n",
    "df[['ID']]=df[['ID']].astype('object')\n",
    "print(df.dtypes)\n"
   ]
  },
  {
   "cell_type": "code",
   "execution_count": 30,
   "metadata": {},
   "outputs": [
    {
     "data": {
      "text/html": [
       "\n",
       "    <span>FactorVector with 193 elements.</span>\n",
       "    <table>\n",
       "      <tbody>\n",
       "      <tr>\n",
       "      \n",
       "      <td>\n",
       "        female\n",
       "      </td>\n",
       "      \n",
       "      <td>\n",
       "        female\n",
       "      </td>\n",
       "      \n",
       "      <td>\n",
       "        female\n",
       "      </td>\n",
       "      \n",
       "      <td>\n",
       "        male\n",
       "      </td>\n",
       "      \n",
       "      <td>\n",
       "        ...\n",
       "      </td>\n",
       "      \n",
       "      <td>\n",
       "        female\n",
       "      </td>\n",
       "      \n",
       "      <td>\n",
       "        female\n",
       "      </td>\n",
       "      \n",
       "      <td>\n",
       "        male\n",
       "      </td>\n",
       "      \n",
       "      <td>\n",
       "        male\n",
       "      </td>\n",
       "      \n",
       "      </tr>\n",
       "      </tbody>\n",
       "    </table>\n",
       "    "
      ],
      "text/plain": [
       "R object with classes: ('factor',) mapped to:\n",
       "<FactorVector - Python:0x0000026BC23CFB88 / R:0x0000026BC066D5E0>\n",
       "[female, female, female, male, ..., female, female, male, male]"
      ]
     },
     "execution_count": 30,
     "metadata": {},
     "output_type": "execute_result"
    }
   ],
   "source": [
    "# R\n",
    "#~~loading data and checking data\n",
    "rr=robjects.r\n",
    "rr('CHI.raw <- read.csv(\"C:/Users/johnson_yang/Desktop/WOW_data_forStudent.csv\",header=TRUE)')\n",
    "rr('CHI.goodness<-CHI.raw[c(2,4)]')\n",
    "rr('CHI.goodness$ID <- as.factor(CHI.goodness$ID)')\n",
    "rr('install.packages(\"plyr\")')\n",
    "rr('install.packages(\"dplyr\")')\n",
    "rr('library(plyr)')\n",
    "rr('library(dplyr)')\n",
    "rr('CHI.goodness$gender <- mapvalues(CHI.goodness$gender,from = c(0,1),to = c(\"female\", \"male\"))')\n",
    "rr('CHI.goodness$gender <-as.factor(CHI.goodness$gender)')"
   ]
  },
  {
   "cell_type": "code",
   "execution_count": 31,
   "metadata": {},
   "outputs": [
    {
     "name": "stdout",
     "output_type": "stream",
     "text": [
      "\n",
      "\n",
      "female   male \n",
      "\n",
      "    89    104 \n",
      "\n",
      "--------------------------------------------------\n",
      "\n",
      "\n",
      "\tChi-squared test for given probabilities\n",
      "\n",
      "\n",
      "\n",
      "data:  count\n",
      "\n",
      "X-squared = 1.1658, df = 1, p-value = 0.2803\n",
      "\n",
      "\n",
      "\n"
     ]
    }
   ],
   "source": [
    "# python chi\n",
    "\n",
    "#from scipy.stats import chisquare\n",
    "#from scipy.stats import chi2_contingency\n",
    "#df_gender_array=np.array(df[['gender']]).reshape(-1)\n",
    "#print(chisquare(df_gender_array))\n",
    "\n",
    "\n",
    "\n",
    "#R chi\n",
    "\n",
    "rr('count<-table(CHI.goodness$gender)')\n",
    "print(rr('count'))\n",
    "print('--------------------------------------------------')\n",
    "print(rr('chisq.test(count)'))\n"
   ]
  },
  {
   "cell_type": "code",
   "execution_count": 32,
   "metadata": {},
   "outputs": [
    {
     "name": "stdout",
     "output_type": "stream",
     "text": [
      "\n",
      "\n",
      "\tChi-squared test for given probabilities\n",
      "\n",
      "\n",
      "\n",
      "data:  count\n",
      "\n",
      "X-squared = 1.1658, df = 1, p-value = 0.2803\n",
      "\n",
      "\n",
      "\n",
      "--------------------------------------------------\n",
      "\n",
      "\n",
      "\tChi-squared test for given probabilities\n",
      "\n",
      "\n",
      "\n",
      "data:  count\n",
      "\n",
      "X-squared = 3.006, df = 1, p-value = 0.08295\n",
      "\n",
      "\n",
      "\n"
     ]
    }
   ],
   "source": [
    "#R chi with probability\n",
    "\n",
    "# 50%女生(female)、50%男生(male)\n",
    "rr('null.probs.1 = c(0.5,0.5)')\n",
    "print(rr('chisq.test(count, p=null.probs.1)'))\n",
    "print('--------------------------------------------------')\n",
    "# 40%女生(female)、60%男生(male)\n",
    "rr('null.probs.2 = c(0.4,0.6)')\n",
    "print(rr('chisq.test(count, p=null.probs.2)'))"
   ]
  },
  {
   "cell_type": "code",
   "execution_count": 33,
   "metadata": {},
   "outputs": [
    {
     "name": "stdout",
     "output_type": "stream",
     "text": [
      "        \n",
      "\n",
      "         Human  Orc  Undead \n",
      "\n",
      "  female     38   19      32\n",
      "\n",
      "  male       49   23      32\n",
      "\n"
     ]
    }
   ],
   "source": [
    "# R Test of independence\n",
    "\n",
    "rr('CHI.ind<-CHI.raw[c(2,3,4)]')\n",
    "rr('CHI.ind$ID <- as.factor(CHI.ind$ID)')\n",
    "rr('CHI.ind$gender <- mapvalues(CHI.ind$gender,from = c(0,1),to = c(\"female\", \"male\"))')\n",
    "rr('CHI.ind$gender <-as.factor(CHI.ind$gender)')\n",
    "\n",
    "# chi of independence\n",
    "rr('ind.table <- table(CHI.ind$gender,CHI.ind$ethnic)')\n",
    "print(rr('ind.table'))"
   ]
  },
  {
   "cell_type": "code",
   "execution_count": 34,
   "metadata": {},
   "outputs": [
    {
     "name": "stdout",
     "output_type": "stream",
     "text": [
      "       ID        reading_3       reading_1    \n",
      "\n",
      " 1041001:  1   Min.   :423.0   Min.   :393.0  \n",
      "\n",
      " 1041002:  1   1st Qu.:489.0   1st Qu.:467.0  \n",
      "\n",
      " 1041003:  1   Median :503.0   Median :481.0  \n",
      "\n",
      " 1041004:  1   Mean   :499.3   Mean   :477.3  \n",
      "\n",
      " 1041005:  1   3rd Qu.:512.0   3rd Qu.:489.0  \n",
      "\n",
      " 1041006:  1   Max.   :543.0   Max.   :530.0  \n",
      "\n",
      " (Other):187                                  \n",
      "\n",
      "--------------------------------------------------\n",
      "    \n",
      "\n",
      "     1H 1L\n",
      "\n",
      "  3H 94 11\n",
      "\n",
      "  3L 22 66\n",
      "\n",
      "--------------------------------------------------\n",
      "\n",
      "\n",
      "\tMcNemar's Chi-squared test with continuity correction\n",
      "\n",
      "\n",
      "\n",
      "data:  MC.test\n",
      "\n",
      "McNemar's chi-squared = 3.0303, df = 1, p-value = 0.08172\n",
      "\n",
      "\n",
      "\n"
     ]
    }
   ],
   "source": [
    "# R of 2 by 2 contingency table (相依)\n",
    "\n",
    "rr('CHI.McNemar<-CHI.raw[c(2,12,22)]')\n",
    "rr('CHI.McNemar$ID <- as.factor(CHI.McNemar$ID)')\n",
    "print(rr('summary(CHI.McNemar)'))\n",
    "print('--------------------------------------------------')\n",
    "# mutate\n",
    "\n",
    "rr('CHI.McNemar<-mutate(CHI.McNemar,reading3 = ifelse(reading_3 >= 499.3,\"3H\",\"3L\"))')\n",
    "#print('--------------------------------------------------')\n",
    "rr('CHI.McNemar<-mutate(CHI.McNemar,reading1 = ifelse(reading_1 >= 477.3,\"1H\",\"1L\"))')\n",
    "#print('--------------------------------------------------')\n",
    "# MC.test\n",
    "rr('MC.test <- table(CHI.McNemar$reading3,CHI.McNemar$reading1)')\n",
    "print(rr('MC.test'))\n",
    "print('--------------------------------------------------')\n",
    "# chi\n",
    "print(rr('mcnemar.test(MC.test)'))"
   ]
  },
  {
   "cell_type": "code",
   "execution_count": 35,
   "metadata": {},
   "outputs": [
    {
     "name": "stdout",
     "output_type": "stream",
     "text": [
      "                  Truth\n",
      "\n",
      "Guess              Milk_First_Truth Tea_First_Truth\n",
      "\n",
      "  Milk_First_Guess                4               0\n",
      "\n",
      "  Tea_First_Guess                 0               4\n",
      "\n",
      "--------------------------------------------------\n",
      "\n",
      "\n",
      "\tFisher's Exact Test for Count Data\n",
      "\n",
      "\n",
      "\n",
      "data:  TeaTasting\n",
      "\n",
      "p-value = 0.02857\n",
      "\n",
      "alternative hypothesis: true odds ratio is not equal to 1\n",
      "\n",
      "95 percent confidence interval:\n",
      "\n",
      " 1.339059      Inf\n",
      "\n",
      "sample estimates:\n",
      "\n",
      "odds ratio \n",
      "\n",
      "       Inf \n",
      "\n",
      "\n",
      "\n",
      "--------------------------------------------------\n",
      "                  Truth\n",
      "\n",
      "Guess              Milk_First_Truth Tea_First_Truth\n",
      "\n",
      "  Milk_First_Guess               10               0\n",
      "\n",
      "  Tea_First_Guess                 0              10\n",
      "\n",
      "--------------------------------------------------\n",
      "\n",
      "\n",
      "\tPearson's Chi-squared test with Yates' continuity correction\n",
      "\n",
      "\n",
      "\n",
      "data:  TeaTasting.2\n",
      "\n",
      "X-squared = 16.2, df = 1, p-value = 5.699e-05\n",
      "\n",
      "\n",
      "\n"
     ]
    }
   ],
   "source": [
    "# R of Fisher’s exact probability test\n",
    "\n",
    "rr('TeaTasting <- matrix(c(4, 0, 0, 4),nrow = 2,dimnames = list(Guess = c(\"Milk_First_Guess\", \"Tea_First_Guess\"),Truth = c(\"Milk_First_Truth\", \"Tea_First_Truth\")))')\n",
    "print(rr('TeaTasting'))\n",
    "print('--------------------------------------------------')\n",
    "print(rr('fisher.test(TeaTasting)'))\n",
    "print('--------------------------------------------------')\n",
    "# Yate's correlation for continuity\n",
    "rr('TeaTasting.2 <- matrix(c(10, 0, 0, 10),nrow = 2,dimnames = list(Guess = c(\"Milk_First_Guess\", \"Tea_First_Guess\"),Truth = c(\"Milk_First_Truth\", \"Tea_First_Truth\")))')\n",
    "print(rr('TeaTasting.2'))\n",
    "print('--------------------------------------------------')\n",
    "print(rr('chisq.test(TeaTasting.2)'))"
   ]
  }
 ],
 "metadata": {
  "kernelspec": {
   "display_name": "Python 3",
   "language": "python",
   "name": "python3"
  },
  "language_info": {
   "codemirror_mode": {
    "name": "ipython",
    "version": 3
   },
   "file_extension": ".py",
   "mimetype": "text/x-python",
   "name": "python",
   "nbconvert_exporter": "python",
   "pygments_lexer": "ipython3",
   "version": "3.7.1"
  }
 },
 "nbformat": 4,
 "nbformat_minor": 2
}
